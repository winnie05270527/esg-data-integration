{
 "cells": [
  {
   "cell_type": "code",
   "execution_count": 9,
   "metadata": {},
   "outputs": [],
   "source": [
    "import requests\n",
    "import json\n",
    "import os\n",
    "import pandas as pd\n",
    "import re\n",
    "\n",
    "OUTPUT_DIR = 'data'\n",
    "\n",
    "dataList = {\n",
    "    # '縣市代碼(國土測繪中心編碼)': '/adminDivisions/county',\n",
    "    # '鄉鎮代碼(國土測繪中心編碼)': '/adminDivisions/town',\n",
    "    '地下水位監測站列表': '/groundwaterlevel/stations',\n",
    "    '沖刷深度': '/erosiondepth/stations',\n",
    "    '取得水系代碼': '/river/basins',\n",
    "    '河川、區排水位站': '/river/stations',\n",
    "    '累計流量': '/cumulativeflow/stations',\n",
    "    '堤防結構安全': '/damstructure/stations',\n",
    "    '閘門': '/watergate/stations',\n",
    "    '揚塵': '/dustemission/stations'\n",
    "}\n",
    "\n",
    "for data_name, path in dataList.items():\n",
    "    url = f'https://iot.wra.gov.tw/{path}'\n",
    "    response = requests.get(url)\n",
    "    data = response.text\n",
    "    data = json.loads(data)\n",
    "    data = pd.DataFrame(data)\n",
    "    \n",
    "    data_name = re.sub(r'[\\\\/:*?\"<>|()（）、]', '', data_name)\n",
    "    os.makedirs(OUTPUT_DIR, exist_ok=True)\n",
    "    file_path = os.path.join(OUTPUT_DIR, f'{data_name}.csv')\n",
    "    data.to_csv(file_path, index=False, encoding='utf-8-sig')\n",
    "    \n"
   ]
  }
 ],
 "metadata": {
  "kernelspec": {
   "display_name": "base",
   "language": "python",
   "name": "python3"
  },
  "language_info": {
   "codemirror_mode": {
    "name": "ipython",
    "version": 3
   },
   "file_extension": ".py",
   "mimetype": "text/x-python",
   "name": "python",
   "nbconvert_exporter": "python",
   "pygments_lexer": "ipython3",
   "version": "3.11.3"
  },
  "orig_nbformat": 4
 },
 "nbformat": 4,
 "nbformat_minor": 2
}
