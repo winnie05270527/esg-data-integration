{
 "cells": [
  {
   "cell_type": "code",
   "execution_count": 2,
   "metadata": {},
   "outputs": [],
   "source": [
    "import requests\n",
    "import xmltodict\n",
    "import json\n",
    "import os\n",
    "\n",
    "OUTPUT_DIR = 'data'\n",
    "\n",
    "data_dict = {\n",
    "    'VD靜態資料': 'https://thbapp.thb.gov.tw/opendata/vd/info/VDList.xml',\n",
    "    'VD動態資料(1分鐘)': 'https://thbapp.thb.gov.tw/opendata/vd/one/VDLiveList.xml',\n",
    "    'CCTV資料': 'https://cctv-maintain.thb.gov.tw/opendataCCTVs.xml',\n",
    "    'CMS靜態資料': 'https://thbapp.thb.gov.tw/opendata/cms/info/CMSList.xml',\n",
    "    'CMS動態資料(2分鐘)': 'https://thbapp.thb.gov.tw/opendata/cms/two/CMSLiveList.xml',\n",
    "    'eTag所在位置靜態資料': 'https://thbapp.thb.gov.tw/opendata/etag/info/ETagList.xml',\n",
    "    'eTag配對路徑靜態資料': 'https://thbapp.thb.gov.tw/opendata/etag/info/ETagPairList.xml',\n",
    "    'eTag配對路徑動態資料(5分鐘)': 'https://thbapp.thb.gov.tw/opendata/etagpair/five/ETagPairLive.xml',\n",
    "    '機關發布路段基本資料': 'https://thbapp.thb.gov.tw/opendata/section/sectioninfo/SectionList.xml',\n",
    "    '機關發布路段與基礎路段組合對應資料': 'https://thbapp.thb.gov.tw/opendata/section/sectionlinkinfo/SectionLinkList.xml',\n",
    "    '路段即時路況動態資料(5分鐘)': 'https://thbapp.thb.gov.tw/opendata/section/livetrafficdata/LiveTrafficList.xml',\n",
    "    '機關路況壅塞水準定義基本資料': 'https://thbapp.thb.gov.tw/opendata/section/congetioninfo/CongestionLevelList.xml',\n",
    "    '機關發布路段線型圖資資料': 'https://thbapp.thb.gov.tw/opendata/section/sectionshapeinfo/SectionShapeList.xml',\n",
    "    '最新消息資料': 'https://thbapp.thb.gov.tw/opendata/new/info/NewsList.xml',\n",
    "    '虛擬CMS資料': 'https://thbapp.thb.gov.tw/opendata/new/info/VCMSList.xml'\n",
    "}\n",
    "\n",
    "for name, url in data_dict.items():\n",
    "    try:\n",
    "        return_xml = requests.get(url)\n",
    "        xml_dict = xmltodict.parse(return_xml.content)\n",
    "        json_data = json.dumps(xml_dict, indent=4)\n",
    "        \n",
    "        os.makedirs(OUTPUT_DIR, exist_ok=True)\n",
    "        file_path = os.path.join(OUTPUT_DIR, f'{name}.json')\n",
    "        with open(file_path, 'w') as json_file:\n",
    "            json_file.write(json_data)\n",
    "            \n",
    "    except Exception as e:\n",
    "        print(f'{name}:{url} Error: {e}')\n",
    "        \n"
   ]
  }
 ],
 "metadata": {
  "kernelspec": {
   "display_name": "base",
   "language": "python",
   "name": "python3"
  },
  "language_info": {
   "codemirror_mode": {
    "name": "ipython",
    "version": 3
   },
   "file_extension": ".py",
   "mimetype": "text/x-python",
   "name": "python",
   "nbconvert_exporter": "python",
   "pygments_lexer": "ipython3",
   "version": "3.9.13"
  },
  "orig_nbformat": 4
 },
 "nbformat": 4,
 "nbformat_minor": 2
}
