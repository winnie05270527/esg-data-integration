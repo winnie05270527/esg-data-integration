{
 "cells": [
  {
   "cell_type": "code",
   "execution_count": 6,
   "metadata": {},
   "outputs": [],
   "source": [
    "import pandas as pd\n",
    "import requests\n",
    "import os\n",
    "import re\n",
    "import logging\n",
    "\n",
    "logging.basicConfig(filename='error.log', level=logging.ERROR)\n",
    "\n",
    "FORMAT = 'csv'\n",
    "API_KEY = os.environ.get('epa_key')\n",
    "DATA_FILE = 'data_list.csv'\n",
    "OUTPUT_DIR = f'data'\n",
    "\n",
    "def process_row(row):\n",
    "    data_id = row['資料集代碼']\n",
    "    data_name = row['資料集名稱']\n",
    "    # data_freq = row['更新頻率']\n",
    "    data_name = re.sub(r'[\\\\/:*?\"<>|()（）、]', '', data_name)\n",
    "    \n",
    "    try:\n",
    "        response = requests.get(f'https://data.epa.gov.tw/api/v2/{data_id}?format={FORMAT}&api_key={API_KEY}')\n",
    "        response.raise_for_status()\n",
    "    except requests.exceptions.RequestException as e:\n",
    "        logging.error(f'Error retrieving data for ID {data_id}: {str(e)}')\n",
    "        return\n",
    "    \n",
    "    os.makedirs(OUTPUT_DIR, exist_ok=True)\n",
    "    file_path = os.path.join(OUTPUT_DIR, f'{data_id}_{data_name}.{FORMAT}')\n",
    "    with open(file_path, 'w') as f:\n",
    "        f.write(response.text)\n",
    "\n",
    "def main():\n",
    "    frequency = '1日'\n",
    "    df = pd.read_csv(DATA_FILE)\n",
    "    df = df[df['更新頻率'] == frequency]\n",
    "    df.apply(process_row, axis=1)\n",
    "\n",
    "if __name__ == '__main__':\n",
    "    main()\n"
   ]
  }
 ],
 "metadata": {
  "kernelspec": {
   "display_name": "base",
   "language": "python",
   "name": "python3"
  },
  "language_info": {
   "codemirror_mode": {
    "name": "ipython",
    "version": 3
   },
   "file_extension": ".py",
   "mimetype": "text/x-python",
   "name": "python",
   "nbconvert_exporter": "python",
   "pygments_lexer": "ipython3",
   "version": "3.9.13"
  },
  "orig_nbformat": 4
 },
 "nbformat": 4,
 "nbformat_minor": 2
}
