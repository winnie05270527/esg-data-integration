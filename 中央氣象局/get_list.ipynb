{
 "cells": [
  {
   "cell_type": "code",
   "execution_count": 1,
   "metadata": {},
   "outputs": [],
   "source": [
    "import requests\n",
    "import yaml\n",
    "import json\n",
    "import pandas as pd\n",
    "\n",
    "def fetch_swagger_doc(url):\n",
    "    try:\n",
    "        response = requests.get(url)\n",
    "        response.raise_for_status()\n",
    "        return yaml.safe_load(response.text)\n",
    "    except requests.exceptions.RequestException as e:\n",
    "        print(f'Error retrieving Swagger doc: {str(e)}')\n",
    "        return None\n",
    "\n",
    "def save_as_json(data, filename):\n",
    "    with open(filename, 'w', encoding='utf-8') as file:\n",
    "        json.dump(data, file, ensure_ascii=False, indent=4)\n",
    "\n",
    "def save_as_excel(data, filename):\n",
    "    df = pd.DataFrame(data)\n",
    "    df.to_excel(filename, index=False)\n",
    "\n",
    "def main():\n",
    "    swagger_doc = fetch_swagger_doc('https://opendata.cwb.gov.tw/apidoc/v1')\n",
    "    if not swagger_doc:\n",
    "        return\n",
    "    \n",
    "    paths = swagger_doc.get('paths', {})\n",
    "    data = []\n",
    "    for path, methods in paths.items():\n",
    "        for method, details in methods.items():\n",
    "            summary = details.get('summary')\n",
    "            description = details.get('description')\n",
    "            tags = details.get('tags')\n",
    "            \n",
    "            data.append({\n",
    "                '資料集代碼': path.split('/')[-1],\n",
    "                '資料集名稱': summary,\n",
    "                '資料集描述': description,\n",
    "                '標籤': tags[0] if tags else None,\n",
    "            })\n",
    "    save_as_excel(data, 'data_list.xlsx')\n",
    "\n",
    "if __name__ == '__main__':\n",
    "    main()\n"
   ]
  }
 ],
 "metadata": {
  "kernelspec": {
   "display_name": "base",
   "language": "python",
   "name": "python3"
  },
  "language_info": {
   "codemirror_mode": {
    "name": "ipython",
    "version": 3
   },
   "file_extension": ".py",
   "mimetype": "text/x-python",
   "name": "python",
   "nbconvert_exporter": "python",
   "pygments_lexer": "ipython3",
   "version": "3.9.13"
  },
  "orig_nbformat": 4
 },
 "nbformat": 4,
 "nbformat_minor": 2
}
